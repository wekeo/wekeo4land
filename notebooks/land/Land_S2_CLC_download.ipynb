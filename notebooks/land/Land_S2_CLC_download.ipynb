{
 "cells": [
  {
   "cell_type": "markdown",
   "metadata": {},
   "source": [
    "<img src='../../media/common/LogoWekeo_Copernicus_RGB_0.png' align='left' height='50px'></img>"
   ]
  },
  {
   "cell_type": "markdown",
   "metadata": {},
   "source": [
    "<hr>"
   ]
  },
  {
   "cell_type": "markdown",
   "metadata": {},
   "source": [
    "# Tutorial on Basic Land Applications (Data Download)"
   ]
  },
  {
   "cell_type": "markdown",
   "metadata": {},
   "source": [
    "In this tutorial, we will use the WEkEO Jupyterhub to access and download data from the Copernicus Sentinel-2 and the <a href='https://land.copernicus.eu/' target='_blank'>Copernicus Land Monitoring Service (CLMS)</a>.  \n",
    "We have chosen a region in northern Corsica because it features representative landscape characteristics and processes that highlight the strengths and capabilities of Copernicus space components and services.\n",
    "\n",
    "The tutorial guides you through the process of selecting and downloading a Sentinel-2 scene and <a href='https://sdi.eea.europa.eu/catalogue/srv/eng/catalog.search#/metadata/a5144888-ee2a-4e5d-a7b0-2bbf21656348' target='_blank'>CLMS CORINE Land Cover (CLC)</a> data from WEkEO, using the Harmonised Data Access (HDA) API.\n",
    "\n",
    "<img src='../../media/land/Intro_banner.jpg' align='center' height='400px'></img>"
   ]
  },
  {
   "cell_type": "markdown",
   "metadata": {},
   "source": [
    "### Environment Setup\n",
    "Before we begin, we need to prepare our environment by installing and importing the necessary Python libraries:"
   ]
  },
  {
   "cell_type": "code",
   "execution_count": 1,
   "metadata": {},
   "outputs": [],
   "source": [
    "#Uncomment and run if necessary\n",
    "#!pip install hda"
   ]
  },
  {
   "cell_type": "code",
   "execution_count": 6,
   "metadata": {},
   "outputs": [],
   "source": [
    "#Load required libraries\n",
    "import os\n",
    "import sys\n",
    "import json\n",
    "import time\n",
    "import base64\n",
    "import warnings\n",
    "import shutil\n",
    "warnings.filterwarnings('ignore')\n",
    "import zipfile\n",
    "from pathlib import Path\n",
    "#Import HDA API client\n",
    "from hda import Client"
   ]
  },
  {
   "cell_type": "markdown",
   "metadata": {},
   "source": [
    "### WEkEO Account Registration"
   ]
  },
  {
   "cell_type": "markdown",
   "metadata": {},
   "source": [
    "If you don't have a WEkEO account, please self-register at the <a href='https://wekeo.copernicus.eu/register' target='_blank'>WEkEO registration page</a>."
   ]
  },
  {
   "cell_type": "markdown",
   "metadata": {},
   "source": [
    "### HDA API Authentication"
   ]
  },
  {
   "cell_type": "markdown",
   "metadata": {},
   "source": [
    "In order to interact with WEkEO's Harmonised Data Access API, each user shall ensure that the file '.hdarc' with username and password exists in the home directory. Please, find the tutorial on \"how to\" <a href='https://help.wekeo.eu/en/articles/6751608-how-to-use-the-hda-api-in-python' target='_blank'>here</a>. "
   ]
  },
  {
   "cell_type": "markdown",
   "metadata": {},
   "source": [
    "<hr>"
   ]
  },
  {
   "cell_type": "markdown",
   "metadata": {},
   "source": [
    "## Process Data with HDA Client"
   ]
  },
  {
   "cell_type": "markdown",
   "metadata": {},
   "source": [
    "### Search for the Dataset ID from the WEkEO Landing Platform"
   ]
  },
  {
   "cell_type": "markdown",
   "metadata": {},
   "source": [
    "<a href='https://wekeo.eu/' target='_blank'>WEkEO</a> offers access to a vast amount of data. Under <a href='https://wekeo.eu/data' target='_blank'>WEkEO DATA</a>, clicking the \"+\" to add a layer opens a catalog search.  \n",
    "Here, you can use free text or the filter options on the left to refine your search by satellite platform, sensor, Copernicus service, area (region of interest), general time period (past or future), and various other flags.\n",
    "\n",
    "<img src='../../media/land/WEkEO_data_01.jpg' align='middle' height='400px'></img>\n",
    "\n",
    "You can click on the datasets you are interested in to view detailed information, including the dataset's temporal and spatial extent, collection ID, and metadata.\n",
    "\n",
    "When searching for Sentinel-2 products, click under \"Platform\" in the Filters on the left-hand side of the catalog panel.  \n",
    "Two datasets are available, but we will use “SENTINEL-2 Level-1C”. Once you have found it, select 'Details' to read the dataset description. \n",
    "\n",
    "The dataset description provides the following information:\n",
    "* Abstract: A general description of the dataset.\n",
    "* Classification: Including the Dataset ID.\n",
    "* Resources: Links to the Product Data Format Specification guide, and JSON metadata.\n",
    "* Contacts: Information about the data source from its provider.\n",
    "* Raw Metadata: Details of the dataset in XML format.\n",
    "\n",
    "<img src='../../media/land/WEkEO_data_02.jpg' align='centre' height='400px'></img>\n",
    "\n",
    "You will need this information to request data from the Harmonised Data Access API.\n",
    "\n",
    "This process is explained in a previous training session, which can be found on the <a href='https://www.youtube.com/channel/UCvS3VvKmMKs1M2ZkmQPyRlw' target='_blank'>WEkEO YouTube Channel</a>. The YouTube channel also contains many other useful training and support materials,  \n",
    "such as how to <a href='https://www.youtube.com/watch?v=pmCkvXcnZxY&list=PLAT-b7DuvMgogqJa5_ii5GteOYmXCce24&index=2' target='_blank'>clone the GitHub repository to refresh the training materials</a>.\n",
    "\n",
    "For this session, the details of the required datasets have already been prepared as JSON files, which will be used below."
   ]
  },
  {
   "cell_type": "code",
   "execution_count": 7,
   "metadata": {},
   "outputs": [],
   "source": [
    "dataset_id_S2 = \"EO:EO:ESA:DAT:SENTINEL-2:MSI\"\n",
    "dataset_id_corine = \"EO:CLMS:DAT:CORINE\"\n",
    "\n",
    "filename_json_S2 = os.path.join(os.getcwd(), '../../data/raw/land/S2_request.json')\n",
    "filename_json_corine = os.path.join(os.getcwd(), '../../data/raw/land/corine_corsica.json')"
   ]
  },
  {
   "cell_type": "markdown",
   "metadata": {},
   "source": [
    "### Load Data Descriptor File and Request Data"
   ]
  },
  {
   "cell_type": "markdown",
   "metadata": {},
   "source": [
    "\n",
    "The Harmonised Data Access API can read your data request from a JSON file. In this JSON file, you can specify the dataset you want to download.  \n",
    "The file is essentially a dictionary and can include the following keys:\n",
    "\n",
    "- **datasetID**: The dataset's collection ID.\n",
    "- **stringChoiceValues**: The type of dataset, e.g., 'Non Time Critical'.\n",
    "- **dataRangeSelectValues**: The time period for which you want to retrieve data.\n",
    "- **boundingBoxValues**: Optional, to define a subset of a global field.\n",
    "\n",
    "You can also obtain a specific example of a JSON file for a particular query from the WEkEO DATA portal."
   ]
  },
  {
   "cell_type": "markdown",
   "metadata": {},
   "source": [
    "### Displaying a JSON Query from a Request Made to the Harmonised Data Access API Through the Data Portal"
   ]
  },
  {
   "cell_type": "markdown",
   "metadata": {},
   "source": [
    "You can load the JSON file using `json.load()`. Alternatively, you can copy and paste the dictionary describing your data directly into a cell, as demonstrated in the YouTube video.\n",
    "\n",
    "For this training session, multiple JSON files have already been prepared to select the appropriate Sentinel-2 scene and CLC data for the subsequent tasks. The details were loaded earlier in the notebook. \n",
    "\n",
    "The following cell reads these JSON files and displays their contents.  "
   ]
  },
  {
   "cell_type": "code",
   "execution_count": 8,
   "metadata": {},
   "outputs": [
    {
     "name": "stdout",
     "output_type": "stream",
     "text": [
      "Your JSON file:\n",
      "{\n",
      "    \"dataset_id\": \"EO:ESA:DAT:SENTINEL-2\",\n",
      "    \"bbox\": [\n",
      "        9.425764239078317,\n",
      "        42.74275713340862,\n",
      "        9.735642520957134,\n",
      "        43.05969192516483\n",
      "    ],\n",
      "    \"startDate\": \"2017-08-02T00:00:00.000Z\",\n",
      "    \"completionDate\": \"2017-08-02T23:00:00.000Z\",\n",
      "    \"processingLevel\": \"S2MSI2A\"\n",
      "}\n"
     ]
    }
   ],
   "source": [
    "try:\n",
    "    with open(filename_json_S2, 'r') as f:\n",
    "        data_S2 = json.load(f)\n",
    "        print('Your JSON file:')\n",
    "        print(json.dumps(data_S2, indent=4))\n",
    "except:\n",
    "    print('Your JSON file is not in the correct format, or is not found, please check it!')"
   ]
  },
  {
   "cell_type": "code",
   "execution_count": 9,
   "metadata": {},
   "outputs": [
    {
     "name": "stdout",
     "output_type": "stream",
     "text": [
      "Your JSON file:\n",
      "{\n",
      "    \"dataset_id\": \"EO:EEA:DAT:CORINE\",\n",
      "    \"product_type\": \"Corine Land Change 2006 2012\",\n",
      "    \"format\": \"GeoTiff100mt\"\n",
      "}\n"
     ]
    }
   ],
   "source": [
    "try:\n",
    "    with open(filename_json_corine, 'r') as f:\n",
    "        data_corine = json.load(f)\n",
    "        print('Your JSON file:')\n",
    "        print(json.dumps(data_corine, indent=4))\n",
    "except:\n",
    "    print('Your JSON file is not in the correct format, or is not found, please check it!')"
   ]
  },
  {
   "cell_type": "markdown",
   "metadata": {},
   "source": [
    "### Download Requested Data"
   ]
  },
  {
   "cell_type": "markdown",
   "metadata": {},
   "source": [
    "You can use the client directly to download the data, as shown in the following example."
   ]
  },
  {
   "cell_type": "code",
   "execution_count": 10,
   "metadata": {},
   "outputs": [
    {
     "name": "stdout",
     "output_type": "stream",
     "text": [
      "Sentinel 2:\n",
      "SearchResults[items=1,volume=832.9MB]\n"
     ]
    },
    {
     "name": "stderr",
     "output_type": "stream",
     "text": [
      "                                                   "
     ]
    },
    {
     "name": "stdout",
     "output_type": "stream",
     "text": [
      "\n",
      "Corine Land Cover:\n",
      "SearchResults[items=1,volume=25.1MB]\n"
     ]
    },
    {
     "name": "stderr",
     "output_type": "stream",
     "text": [
      "\n",
      "\u001b[A%|          | 0.00/25.1M [00:00<?, ?B/s]\n",
      "\u001b[A%|▎         | 785k/25.1M [00:00<00:03, 8.03MB/s]\n",
      "\u001b[A%|██▍       | 6.02M/25.1M [00:00<00:00, 35.7MB/s]\n",
      "\u001b[A%|████▊     | 12.0M/25.1M [00:00<00:00, 48.0MB/s]\n",
      "\u001b[A%|███████▍  | 18.8M/25.1M [00:00<00:00, 57.0MB/s]\n",
      "\u001b[A                                                 "
     ]
    }
   ],
   "source": [
    "hda_client = Client()\n",
    "\n",
    "download_dir_path = os.path.join(os.getcwd(), '../../data/download/land')\n",
    "\n",
    "matches = hda_client.search(data_S2)\n",
    "print(\"Sentinel 2:\")\n",
    "print(matches)\n",
    "matches.download(download_dir_path)\n",
    "\n",
    "matches = hda_client.search(data_corine)\n",
    "print(\"\\nCorine Land Cover:\")\n",
    "print(matches)\n",
    "matches.download(download_dir_path)"
   ]
  },
  {
   "cell_type": "markdown",
   "metadata": {},
   "source": [
    "### Decompressing Sentinel-2 and Corine Land Cover Data"
   ]
  },
  {
   "cell_type": "code",
   "execution_count": 11,
   "metadata": {},
   "outputs": [
    {
     "name": "stdout",
     "output_type": "stream",
     "text": [
      "Decompressing u2012_cha0612_v2020_20u1_raster100m.zip ... DONE\n",
      "DONEmpressing S2A_MSIL2A_20170802T101031_N0500_R022_T32TNN_20231002T122411.zip ... \n"
     ]
    }
   ],
   "source": [
    "processing_dir_path = os.path.join(os.getcwd(), '../../data/processing/land')\n",
    "\n",
    "extension = \".zip\"\n",
    "for item in os.listdir(download_dir_path): \n",
    "    print(\"Decompressing \" + item + \" ... \", end = '')\n",
    "    if item.endswith(extension): \n",
    "        file_name = os.path.join(download_dir_path, item) \n",
    "        with zipfile.ZipFile(file_name, 'r') as zip_ref:\n",
    "            zip_ref.extractall(processing_dir_path)\n",
    "    print(\"DONE\")"
   ]
  },
  {
   "cell_type": "markdown",
   "metadata": {},
   "source": [
    "<hr>"
   ]
  },
  {
   "cell_type": "markdown",
   "metadata": {},
   "source": [
    "## Cleanup"
   ]
  },
  {
   "cell_type": "markdown",
   "metadata": {},
   "source": [
    "To ensure a clean workspace and remove all downloaded files and processing artifacts created during this session, run the following code. This will delete any files that were downloaded and processed within this notebook."
   ]
  },
  {
   "cell_type": "code",
   "execution_count": 12,
   "metadata": {},
   "outputs": [
    {
     "name": "stdout",
     "output_type": "stream",
     "text": [
      "Cleanup complete. All downloaded and processed files have been removed.\n"
     ]
    }
   ],
   "source": [
    "paths_to_cleanup = [\n",
    "    download_dir_path,\n",
    "    processing_dir_path\n",
    "]\n",
    "\n",
    "for path in paths_to_cleanup:\n",
    "    if os.path.isfile(path):\n",
    "        os.remove(path)\n",
    "    elif os.path.isdir(path):\n",
    "        shutil.rmtree(path)\n",
    "\n",
    "print(\"Cleanup complete. All downloaded and processed files have been removed.\")"
   ]
  },
  {
   "cell_type": "markdown",
   "metadata": {},
   "source": [
    "<hr>"
   ]
  },
  {
   "cell_type": "markdown",
   "metadata": {},
   "source": [
    "## Data Reference\n",
    "\n",
    "CORINE Land Cover Change 2006-2012 (raster 100 m), Europe, 6-yearly. European Union's Copernicus Land Monitoring Service information, https://www.wekeo.eu/. https://doi.org/10.2909/32883574-90dd-4021-843f-f9ea6b22bfce (Accessed on 28.01.2025)"
   ]
  },
  {
   "cell_type": "markdown",
   "metadata": {},
   "source": [
    "<p><img src='../../media/land/all_partners_wekeo_2.png' align='left' alt='Logo EU Copernicus' height='400px'></img></p>"
   ]
  }
 ],
 "metadata": {
  "author": "tbd",
  "description": "This notebook shows you how you can access and analyse data from the Copernicus Sentinel-2 satellite and products from the Copernicus Land Monitoring Service (CLMS) with WEkEO.",
  "github": "https://github.com/wekeo/wekeo4land/blob/main/land/Land_S2_CLC_download.ipynb",
  "image": "./img/img_01.png",
  "kernelspec": {
   "display_name": "Python 3 (ipykernel)",
   "language": "python",
   "name": "python3"
  },
  "language_info": {
   "codemirror_mode": {
    "name": "ipython",
    "version": 3
   },
   "file_extension": ".py",
   "mimetype": "text/x-python",
   "name": "python",
   "nbconvert_exporter": "python",
   "pygments_lexer": "ipython3",
   "version": "3.11.11"
  },
  "services": {
   "wekeo": {
    "git": {
     "link": "https://github.com/wekeo/wekeo4land/blob/main/land/Land_S2_CLC_download.ipynb",
     "service_contact": "ops@eumetsat.int",
     "service_provider": "EUMETSAT"
    },
    "jupyter": {
     "link": "https://jupyterhub-wekeo.apps.eumetsat.dpi.wekeo.eu/hub/user-redirect/lab/tree/public/wekeo4land/land/Land_S2_CLC_download.ipynb",
     "service_contact": "ops@eumetsat.int",
     "service_provider": "EUMETSAT"
    }
   }
  },
  "tags": {
   "domain": "Land",
   "platform": "Sentinel-2",
   "sensor": "MSI",
   "service": "CLMS (Land)",
   "subtheme": "Land Cover",
   "tags": "Top-of-atmosphere radiance"
  },
  "title": "Tutorial on basic land applications (data download)"
 },
 "nbformat": 4,
 "nbformat_minor": 4
}

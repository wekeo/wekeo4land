{
 "cells": [
  {
   "cell_type": "markdown",
   "metadata": {},
   "source": [
    "<img src='../../media/common/LogoWekeo_Copernicus_RGB_0.png' align='left' height='96px'></img>"
   ]
  },
  {
   "cell_type": "markdown",
   "metadata": {},
   "source": [
    "<hr>"
   ]
  },
  {
   "cell_type": "markdown",
   "metadata": {},
   "source": [
    "# Tutorial on Basic Land Applications (Data Download)"
   ]
  },
  {
   "cell_type": "markdown",
   "metadata": {},
   "source": [
    "In this tutorial, we will use the WEkEO Jupyterhub to access and download data from the Copernicus Sentinel-2 and the <a href='https://land.copernicus.eu/' target='_blank'>Copernicus Land Monitoring Service (CLMS)</a>.  \n",
    "We have chosen a region in northern Corsica because it features representative landscape characteristics and processes that highlight the strengths and capabilities of Copernicus space components and services.\n",
    "\n",
    "The tutorial guides you through the process of selecting and downloading a Sentinel-2 scene and CLMS CORINE Land Cover (CLC) data from their original archives on WEkEO, using the Harmonised Data Access (HDA) API.\n",
    "\n",
    "<img src='../../media/land/Intro_banner.jpg' align='center' height='400px'></img>"
   ]
  },
  {
   "cell_type": "markdown",
   "metadata": {},
   "source": [
    "### Environment Setup\n",
    "Before we begin, we need to prepare our environment by installing and importing the necessary R packages."
   ]
  },
  {
   "cell_type": "code",
   "execution_count": 1,
   "metadata": {
    "vscode": {
     "languageId": "r"
    }
   },
   "outputs": [],
   "source": [
    "# Define the list of required packages\n",
    "required_packages <- c(\n",
    "  \n",
    "  # Data handling\n",
    "  \"zip\", \"jsonlite\",\n",
    "      \n",
    "  # hdar data access\n",
    "  \"hdar\"\n",
    ")"
   ]
  },
  {
   "cell_type": "code",
   "execution_count": 2,
   "metadata": {
    "vscode": {
     "languageId": "r"
    }
   },
   "outputs": [
    {
     "name": "stderr",
     "output_type": "stream",
     "text": [
      "also installing the dependencies ‘lazyeval’, ‘pkgbuild’, ‘diffobj’, ‘rex’, ‘httr’, ‘yaml’, ‘ps’, ‘brio’, ‘callr’, ‘desc’, ‘evaluate’, ‘pkgload’, ‘praise’, ‘waldo’, ‘withr’, ‘covr’, ‘processx’, ‘testthat’\n",
      "\n",
      "\n",
      "Updating HTML index of packages in '.Library'\n",
      "\n",
      "Making 'packages.html' ...\n",
      " done\n",
      "\n"
     ]
    }
   ],
   "source": [
    "# Check and install missing packages\n",
    "install_if_missing <- function(pkg) \n",
    "{\n",
    "  if (!requireNamespace(pkg, quietly = TRUE)) \n",
    "  {\n",
    "    install.packages(pkg, dependencies = TRUE)\n",
    "  }\n",
    "}\n",
    "\n",
    "# Apply the function to the list of required packages\n",
    "invisible(sapply(required_packages, install_if_missing))"
   ]
  },
  {
   "cell_type": "code",
   "execution_count": 3,
   "metadata": {
    "vscode": {
     "languageId": "r"
    }
   },
   "outputs": [
    {
     "name": "stderr",
     "output_type": "stream",
     "text": [
      "\n",
      "Attaching package: ‘zip’\n",
      "\n",
      "\n",
      "The following objects are masked from ‘package:utils’:\n",
      "\n",
      "    unzip, zip\n",
      "\n",
      "\n"
     ]
    }
   ],
   "source": [
    "# load packages\n",
    "load_required_packages <- function(pkg) \n",
    "{\n",
    "  library(pkg, character.only = TRUE)  # Load the package\n",
    "}\n",
    "  \n",
    "# Iterate over the list of required packages\n",
    "invisible(sapply(required_packages, load_required_packages))"
   ]
  },
  {
   "cell_type": "markdown",
   "metadata": {},
   "source": [
    "### WEkEO Account Registration\n",
    "\n",
    "If you don't have a WEkEO account, please self-register at the <a href='https://my.wekeo.eu/web/guest/user-registration' target='_blank'>WEkEO registration page</a>."
   ]
  },
  {
   "cell_type": "markdown",
   "metadata": {},
   "source": [
    "### HDA API Authentication\n",
    "\n",
    "In order to interact with WEkEO's Harmonised Data Access API, each user shall ensure that the file '.hdarc' with username and password exists in the home directory. Please, find the tutorial on \"how to\" <a href='https://help.wekeo.eu/en/articles/7035318-how-to-use-the-hdar-package-for-accessing-the-wekeo-hda-api-in-r' target='_blank'>here</a>. "
   ]
  },
  {
   "cell_type": "markdown",
   "metadata": {},
   "source": [
    "<hr>"
   ]
  },
  {
   "cell_type": "markdown",
   "metadata": {},
   "source": [
    "## Process data with HDA Client"
   ]
  },
  {
   "cell_type": "markdown",
   "metadata": {},
   "source": [
    "### Search for the Dataset ID from the WEkEO Landing Platform"
   ]
  },
  {
   "cell_type": "markdown",
   "metadata": {},
   "source": [
    "<a href='https://wekeo.eu/' target='_blank'>WEkEO</a> offers access to a vast amount of data. Under <a href='https://wekeo.eu/data' target='_blank'>WEkEO DATA</a>, clicking the \"+\" to add a layer opens a catalog search.  \n",
    "Here, you can use free text or the filter options on the left to refine your search by satellite platform, sensor, Copernicus service, area (region of interest), general time period (past or future), and various other flags.\n",
    "\n",
    "<img src='../../media/land/WEkEO_data_01.jpg' align='middle' height='400px'></img>\n",
    "\n",
    "You can click on the datasets you are interested in to view detailed information, including the dataset's temporal and spatial extent, collection ID, and metadata.\n",
    "\n",
    "When searching for Sentinel-2 products, click under \"Platform\" in the Filters on the left-hand side of the catalog panel.  \n",
    "Two datasets are available, but we will use “SENTINEL-2 Level-1C”. Once you have found it, select 'Details' to read the dataset description. \n",
    "\n",
    "The dataset description provides the following information:\n",
    "* Abstract: A general description of the dataset.\n",
    "* Classification: Including the Dataset ID.\n",
    "* Resources: Links to the Product Data Format Specification guide, and JSON metadata.\n",
    "* Contacts: Information about the data source from its provider.\n",
    "* Raw Metadata: Details of the dataset in XML format.\n",
    "\n",
    "<img src='../../media/land/WEkEO_data_02.jpg' align='centre' height='400px'></img>\n",
    "\n",
    "You will need this information to request data from the Harmonised Data Access API.\n",
    "\n",
    "This process is explained in a previous training session, which can be found on the <a href='https://www.youtube.com/channel/UCvS3VvKmMKs1M2ZkmQPyRlw' target='_blank'>WEkEO YouTube Channel</a>. The YouTube channel also contains many other useful training and support materials,  \n",
    "such as how to <a href='https://www.youtube.com/watch?v=pmCkvXcnZxY&list=PLAT-b7DuvMgogqJa5_ii5GteOYmXCce24&index=2' target='_blank'>clone the GitHub repository to refresh the training materials</a>.\n",
    "\n",
    "For this session, the details of the required datasets have already been prepared as JSON files, which will be used below."
   ]
  },
  {
   "cell_type": "code",
   "execution_count": null,
   "metadata": {
    "vscode": {
     "languageId": "r"
    }
   },
   "outputs": [],
   "source": [
    "dataset_id_S2 <- \"EO:EO:ESA:DAT:SENTINEL-2:MSI\"\n",
    "dataset_id_corine <- \"EO:EEA:DAT:CORINE\"\n",
    "\n",
    "filename_json_S2 <- file.path(getwd(), \"../../data/raw/land/S2_request.json\")\n",
    "filename_json_corine <- file.path(getwd(), \"../../data/raw/land/corine_corsica.json\")"
   ]
  },
  {
   "cell_type": "markdown",
   "metadata": {},
   "source": [
    "### Load Data Descriptor File and Request Data"
   ]
  },
  {
   "cell_type": "markdown",
   "metadata": {},
   "source": [
    "\n",
    "The Harmonised Data Access API can read your data request from a JSON file. In this JSON file, you can specify the dataset you want to download.  \n",
    "The file is essentially a dictionary and can include the following keys:\n",
    "\n",
    "- **datasetID**: The dataset's collection ID.\n",
    "- **stringChoiceValues**: The type of dataset, e.g., 'Non Time Critical'.\n",
    "- **dataRangeSelectValues**: The time period for which you want to retrieve data.\n",
    "- **boundingBoxValues**: Optional, to define a subset of a global field.\n",
    "\n",
    "You can also obtain a specific example of a JSON file for a particular query from the WEkEO DATA portal."
   ]
  },
  {
   "cell_type": "markdown",
   "metadata": {},
   "source": [
    "### Displaying a JSON Query from a Request Made to the Harmonised Data Access API Through the Data Portal"
   ]
  },
  {
   "cell_type": "markdown",
   "metadata": {},
   "source": [
    "You can load the JSON file using `json.load()`. Alternatively, you can copy and paste the dictionary describing your data directly into a cell, as demonstrated in the YouTube video.\n",
    "\n",
    "For this training session, we have prepared two methods to create the query for selecting the appropriate Sentinel-2 scene and CLC data for the subsequent tasks. The first method involves reading the query from pre-prepared JSON files, while the second method demonstrates how to use the generate_query_template() function to create the query automatically."
   ]
  },
  {
   "cell_type": "code",
   "execution_count": 18,
   "metadata": {
    "vscode": {
     "languageId": "r"
    }
   },
   "outputs": [],
   "source": [
    "tryCatch({\n",
    "  data_S2 <- fromJSON(filename_json_S2, simplifyVector = TRUE)\n",
    "  data_S2 <- toJSON(data_S2, pretty = TRUE, auto_unbox = TRUE)\n",
    "}, error = function(e) {\n",
    "  cat('Your JSON file is not in the correct format, or is not found, please check it!\\n')\n",
    "})\n",
    "\n",
    "c <- Client$new()\n",
    "corine_query <- c$generate_query_template(\"EO:EEA:DAT:CORINE\")"
   ]
  },
  {
   "cell_type": "markdown",
   "metadata": {},
   "source": [
    "### Download Requested Data"
   ]
  },
  {
   "cell_type": "markdown",
   "metadata": {},
   "source": [
    "You can use the client directly to download the data, as shown in the following example."
   ]
  },
  {
   "cell_type": "code",
   "execution_count": 21,
   "metadata": {
    "vscode": {
     "languageId": "r"
    }
   },
   "outputs": [
    {
     "name": "stderr",
     "output_type": "stream",
     "text": [
      "Found 1 files\n",
      "\n",
      "Total Size 873.4 MB\n",
      "\n"
     ]
    },
    {
     "name": "stdout",
     "output_type": "stream",
     "text": [
      "Sentinel 2:\n"
     ]
    },
    {
     "name": "stderr",
     "output_type": "stream",
     "text": [
      "The total size is 873.4 MB. Do you want to proceed? (Y/N): \n",
      "\n"
     ]
    },
    {
     "ename": "ERROR",
     "evalue": "Error in if (answer %in% c(\"y\", \"n\")) {: argument is of length zero\n",
     "output_type": "error",
     "traceback": [
      "Error in if (answer %in% c(\"y\", \"n\")) {: argument is of length zero\nTraceback:\n",
      "1. matches$download(download_dir_path)",
      "2. private$prompt_user_confirmation(self$total_size)"
     ]
    }
   ],
   "source": [
    "download_dir_path <- file.path(getwd(), \"../../data/download/land\")\n",
    "\n",
    "matches <- c$search(data_S2)\n",
    "cat(\"Sentinel 2:\\n\")\n",
    "matches$download(download_dir_path)\n",
    "\n",
    "matches <- c$search(corine_query)\n",
    "cat(\"\\nCorine Land Cover:\\n\")\n",
    "matches$download(download_dir_path)"
   ]
  },
  {
   "cell_type": "code",
   "execution_count": null,
   "metadata": {
    "vscode": {
     "languageId": "r"
    }
   },
   "outputs": [],
   "source": [
    "### Decompressing Sentinel-2 and Corine Land Cover Data"
   ]
  },
  {
   "cell_type": "code",
   "execution_count": 24,
   "metadata": {
    "vscode": {
     "languageId": "r"
    }
   },
   "outputs": [
    {
     "name": "stdout",
     "output_type": "stream",
     "text": [
      "Decompressing S2A_MSIL2A_20170802T101031_N0500_R022_T32TNN_20231002T122411.zip ... DONE\n",
      "Decompressing u2000_cha9000_v2020_20u1_fgdb.zip ... DONE\n"
     ]
    }
   ],
   "source": [
    "processing_dir_path <- file.path(getwd(), \"../../data/processing/land\")\n",
    "\n",
    "extension <- \".zip\"\n",
    "for (item in list.files(download_dir_path)) {\n",
    "  cat(\"Decompressing\", item, \"... \")\n",
    "  if (grepl(paste0(extension, \"$\"), item)) {\n",
    "    file_name <- file.path(download_dir_path, item)\n",
    "    unzip(file_name, exdir = processing_dir_path)\n",
    "  }\n",
    "  cat(\"DONE\\n\")\n",
    "}"
   ]
  },
  {
   "cell_type": "markdown",
   "metadata": {},
   "source": [
    "<hr>"
   ]
  },
  {
   "cell_type": "markdown",
   "metadata": {},
   "source": [
    "## Cleanup"
   ]
  },
  {
   "cell_type": "markdown",
   "metadata": {},
   "source": [
    "To ensure a clean workspace and remove all downloaded files and processing artifacts created during this session, run the following code. This will delete any files that were downloaded and processed within this notebook."
   ]
  },
  {
   "cell_type": "code",
   "execution_count": 25,
   "metadata": {
    "vscode": {
     "languageId": "r"
    }
   },
   "outputs": [
    {
     "name": "stdout",
     "output_type": "stream",
     "text": [
      "Cleanup complete. All downloaded and processed files have been removed.\n"
     ]
    }
   ],
   "source": [
    "paths_to_cleanup <- list(\n",
    "  download_dir_path,\n",
    "  processing_dir_path\n",
    ")\n",
    "\n",
    "for (path in paths_to_cleanup) {\n",
    "  if (file.exists(path)) {\n",
    "    if (file.info(path)$isdir) {\n",
    "      unlink(path, recursive = TRUE)\n",
    "    } else {\n",
    "      file.remove(path)\n",
    "    }\n",
    "  }\n",
    "}\n",
    "\n",
    "cat(\"Cleanup complete. All downloaded and processed files have been removed.\\n\")"
   ]
  },
  {
   "cell_type": "markdown",
   "metadata": {},
   "source": [
    "<hr>"
   ]
  },
  {
   "cell_type": "markdown",
   "metadata": {},
   "source": [
    "## Data Reference\n",
    "\n",
    "CORINE Land Cover Change 2006-2012 (raster 100 m), Europe, 6-yearly. European Union's Copernicus Land Monitoring Service information, https://www.wekeo.eu/. https://doi.org/10.2909/32883574-90dd-4021-843f-f9ea6b22bfce (Accessed on 28.01.2025)"
   ]
  },
  {
   "cell_type": "markdown",
   "metadata": {},
   "source": [
    "<p><img src='../../media/land/all_partners_wekeo_2.png' align='left' alt='Logo EU Copernicus' height='400px'></img></p>"
   ]
  }
 ],
 "metadata": {
  "author": "tbd",
  "description": "This notebook shows you how you can access and analyse data from the Copernicus Sentinel-2 satellite and products from the Copernicus Land Monitoring Service (CLMS) with WEkEO.",
  "github": "https://github.com/wekeo/wekeo4land/blob/main/land/Land_S2_CLC_download.ipynb",
  "image": "./img/img_01.png",
  "kernelspec": {
   "display_name": "R",
   "language": "R",
   "name": "ir"
  },
  "language_info": {
   "codemirror_mode": "r",
   "file_extension": ".r",
   "mimetype": "text/x-r-source",
   "name": "R",
   "pygments_lexer": "r",
   "version": "4.2.3"
  },
  "services": {
   "wekeo": {
    "git": {
     "link": "https://github.com/wekeo/wekeo4land/blob/main/land/Land_S2_CLC_download.ipynb",
     "service_contact": "ops@eumetsat.int",
     "service_provider": "EUMETSAT"
    },
    "jupyter": {
     "link": "https://jupyterhub-wekeo.apps.eumetsat.dpi.wekeo.eu/hub/user-redirect/lab/tree/public/wekeo4land/land/Land_S2_CLC_download.ipynb",
     "service_contact": "ops@eumetsat.int",
     "service_provider": "EUMETSAT"
    }
   }
  },
  "tags": {
   "domain": "Land",
   "platform": "Sentinel-2",
   "sensor": "MSI",
   "service": "CLMS (Land)",
   "subtheme": "Land Cover",
   "tags": "Top-of-atmosphere radiance"
  },
  "title": "Tutorial on basic land applications (data download)"
 },
 "nbformat": 4,
 "nbformat_minor": 4
}
